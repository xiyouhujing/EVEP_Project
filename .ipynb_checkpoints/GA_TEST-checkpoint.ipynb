{
 "cells": [
  {
   "cell_type": "code",
   "execution_count": 1,
   "metadata": {},
   "outputs": [],
   "source": [
    "import math as m\n",
    "\n",
    "\n",
    "class Target:\n",
    "    def __init__(self, id, idx, x, y, ready_time, due_date, service_time):\n",
    "        self.id = id\n",
    "        self.idx = idx\n",
    "        self.x = x\n",
    "        self.y = y\n",
    "        self.ready_time = ready_time\n",
    "        self.due_date = due_date\n",
    "        self.service_time = service_time\n",
    "\n",
    "    def distance_to(self, compared_target):\n",
    "        return m.sqrt((self.x - compared_target.x) ** 2 + (self.y - compared_target.y) ** 2)\n",
    "\n",
    "    def get_coordinates(self):\n",
    "        return self.x, self.y\n",
    "\n",
    "    def __str__(self):\n",
    "        return \"type: {0}, id: {1}, x: {2}, y: {3}\".format(type(self), self.id, self.x, self.y)\n",
    "\n",
    "    def __repr__(self):\n",
    "        return \"type: {0}, id: {1}, x: {2}, y: {3}\".format(type(self), self.id, self.x, self.y)\n",
    "\n",
    "\n",
    "class Customer(Target):\n",
    "    def __init__(self, id, idx, x, y, demand, ready_time, due_date, service_time):\n",
    "        super(Customer, self).__init__(id, idx, x, y, ready_time, due_date, service_time)\n",
    "        self.demand = demand\n",
    "\n",
    "\n",
    "class CharingStation(Target):\n",
    "    def __init__(self, id, idx, x, y, ready_time, due_date, service_time):\n",
    "        super(CharingStation, self).__init__(id, idx, x, y, ready_time, due_date, service_time)"
   ]
  },
  {
   "cell_type": "code",
   "execution_count": 3,
   "metadata": {},
   "outputs": [],
   "source": [
    "def load_problem_instance(file):\n",
    "    with open(file) as f:\n",
    "        f.readline()  # ignore header\n",
    "\n",
    "        target_line = f.readline()\n",
    "\n",
    "        customers = []\n",
    "        fuel_stations = []\n",
    "        depot = None\n",
    "\n",
    "        while target_line != '\\n':\n",
    "            stl = target_line.split()  # splitted target_line\n",
    "            idx = int(stl[0][1:])\n",
    "\n",
    "            if stl[1] == 'd':\n",
    "                depot = Target(stl[0], idx, int(float(stl[2])), int(float(stl[3])), int(float(stl[5])),\n",
    "                               int(float(stl[6])),\n",
    "                               int(float(stl[7])))\n",
    "            elif stl[1] == 'f':\n",
    "                new_target = CharingStation(stl[0], idx, int(float(stl[2])), int(float(stl[3])), int(float(stl[5])),\n",
    "                                            int(float(stl[6])), int(float(stl[7])))\n",
    "                fuel_stations.append(new_target)\n",
    "            elif stl[1] == 'c':\n",
    "                new_target = Customer(stl[0], idx, int(float(stl[2])), int(float(stl[3])), int(float(stl[4])),\n",
    "                                      int(float(stl[5])), int(float(stl[6])), int(float(stl[7])))\n",
    "                customers.append(new_target)\n",
    "\n",
    "            target_line = f.readline()\n",
    "    return depot, customers, fuel_station"
   ]
  },
  {
   "cell_type": "code",
   "execution_count": 11,
   "metadata": {},
   "outputs": [
    {
     "name": "stdout",
     "output_type": "stream",
     "text": [
      "id,style,x,y,need,et,lt,eet,llt\n",
      "\n"
     ]
    }
   ],
   "source": [
    "f = open(\"sss.csv\")\n",
    "target_line = f.readline()\n",
    "print target_line"
   ]
  },
  {
   "cell_type": "code",
   "execution_count": 12,
   "metadata": {},
   "outputs": [],
   "source": [
    "customer = []\n",
    "fuel_station = []\n",
    "depo = []"
   ]
  },
  {
   "cell_type": "code",
   "execution_count": 13,
   "metadata": {},
   "outputs": [
    {
     "name": "stdout",
     "output_type": "stream",
     "text": [
      "['id,style,x,y,need,et,lt,eet,llt']\n"
     ]
    }
   ],
   "source": [
    "st1 = target_line.split()\n",
    "print st1"
   ]
  },
  {
   "cell_type": "code",
   "execution_count": 18,
   "metadata": {},
   "outputs": [],
   "source": [
    "target_line = f.readline()"
   ]
  },
  {
   "cell_type": "code",
   "execution_count": 19,
   "metadata": {},
   "outputs": [
    {
     "name": "stdout",
     "output_type": "stream",
     "text": [
      "1,d,20,20,0,0,0,0,0\n",
      "\n"
     ]
    }
   ],
   "source": [
    "print target_line"
   ]
  },
  {
   "cell_type": "code",
   "execution_count": 17,
   "metadata": {},
   "outputs": [
    {
     "data": {
      "text/plain": [
       "'i'"
      ]
     },
     "execution_count": 17,
     "metadata": {},
     "output_type": "execute_result"
    }
   ],
   "source": [
    "st1[0][0]"
   ]
  },
  {
   "cell_type": "code",
   "execution_count": null,
   "metadata": {},
   "outputs": [],
   "source": [
    "while target_line != '\\n':\n",
    "    stl = target_line.split()  # splitted target_line\n",
    "    idx = int(stl[0][1:])\n",
    "\n",
    "    if stl[1] == 'd':\n",
    "        depot = Target(stl[0], idx, int(float(stl[2])), int(float(stl[3])), int(float(stl[5])),int(float(stl[6])),int(float(stl[7])))\n",
    "    elif stl[1] == 'f':\n",
    "        new_target = CharingStation(stl[0], idx, int(float(stl[2])), int(float(stl[3])), int(float(stl[5])),int(float(stl[6])), int(float(stl[7])))\n",
    "        fuel_stations.append(new_target)\n",
    "    elif stl[1] == 'c':\n",
    "        new_target = Customer(stl[0], idx, int(float(stl[2])), int(float(stl[3])), int(float(stl[4])),int(float(stl[5])), int(float(stl[6])), int(float(stl[7])))\n",
    "        customers.append(new_target)"
   ]
  },
  {
   "cell_type": "code",
   "execution_count": null,
   "metadata": {},
   "outputs": [],
   "source": []
  }
 ],
 "metadata": {
  "kernelspec": {
   "display_name": "Python 2",
   "language": "python",
   "name": "python2"
  },
  "language_info": {
   "codemirror_mode": {
    "name": "ipython",
    "version": 2
   },
   "file_extension": ".py",
   "mimetype": "text/x-python",
   "name": "python",
   "nbconvert_exporter": "python",
   "pygments_lexer": "ipython2",
   "version": "2.7.15"
  }
 },
 "nbformat": 4,
 "nbformat_minor": 2
}
